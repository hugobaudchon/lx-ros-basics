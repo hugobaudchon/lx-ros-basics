{
    "cells": [
        {
            "cell_type": "markdown",
            "metadata": {},
            "source": [
                "<span style=\"float:right\">\n",
                "<strong>Disclaimer:</strong>\n",
                "This tutorial is an adaptation of the <a href=\"https://wiki.ros.org/ROS/Tutorials/\">Official ROS tutorial</a> originally released under <a href=\"http://creativecommons.org/licenses/by/3.0/\">Creative Commons Attribution 3.0</a> license.\n",
                "<span>"
            ]
        },
        {
            "cell_type": "markdown",
            "metadata": {},
            "source": [
                "# Navigating the File System\n",
                "\n",
                "This tutorial introduces ROS filesystem concepts, and covers using the commands `roscd`, `rosls`, and `rospack`."
            ]
        },
        {
            "cell_type": "markdown",
            "metadata": {},
            "source": [
                "## Quick Overview of Filesystem Concepts\n",
                "- **Packages:** Packages are the software organization unit of ROS code. Each package can contain libraries, executables, scripts, or other artifacts.\n",
                "- **Manifests (package.xml files):** A manifest is a description of a package. It defines dependencies between packages and meta information about the package itself, such as version, maintainer, license, etc..."
            ]
        },
        {
            "cell_type": "markdown",
            "metadata": {},
            "source": [
                "## Follow the tutorial\n",
                "\n",
                "Use the menu on the top-left corner of this editor, then `Terminal  ->  New Terminal` to open a terminal at the bottom of the page. Use the terminal to execute the commands introduced in this notebook. Feel free to experiment with this terminal as much as you need to get comfortable with these new commands."
            ]
        },
        {
            "cell_type": "markdown",
            "metadata": {},
            "source": [
                "## Filesystem Tools\n",
                "Source code is usually spread across many ROS packages even for small projects. Navigating with traditional command-line tools such as `ls` and `cd` can be very tedious. This is why ROS provides tools to help you navigate the file system."
            ]
        },
        {
            "cell_type": "code",
            "execution_count": null,
            "metadata": {},
            "outputs": [],
            "source": []
        },
        {
            "cell_type": "markdown",
            "metadata": {},
            "source": [
                "### Using rospack\n",
                "\n",
                "The command `rospack` allows you to get information about packages. In this tutorial, we are only going to cover the find option, which returns the path to the wanted package.\n",
                "\n",
                "#### Usage:\n",
                "\n",
                "```{bash}\n",
                "    rospack find [package_name]\n",
                "```\n",
                "\n",
                "For example, running the command,\n",
                "\n",
                "```{bash}\n",
                "    rospack find roscpp\n",
                "```\n",
                "\n",
                "would return:\n",
                "\n",
                "    /opt/ros/noetic/share/roscpp\n"
            ]
        },
        {
            "cell_type": "markdown",
            "metadata": {},
            "source": [
                "### Using roscd\n",
                "The command `roscd` allows you to change directory (similar to linux's `cd`) directly to a package.\n",
                "\n",
                "#### Usage:\n",
                "\n",
                "```{bash}\n",
                "    roscd [package_name]\n",
                "```\n",
                "\n",
                "To verify that we have changed to the roscpp package directory, run this example:\n",
                "\n",
                "```{bash}\n",
                "    roscd roscpp\n",
                "```\n",
                "\n",
                "Now let's print the working directory using the Unix command pwd:\n",
                "\n",
                "```{bash}\n",
                "    pwd\n",
                "```\n",
                "\n",
                "You should see:\n",
                "\n",
                "    /opt/ros/noetic/share/roscpp\n",
                "\n",
                "You can see that `/opt/ros/noetic/share/roscpp` is the same path that `rospack` find gave in the previous example.\n",
                "\n",
                "Note that `roscd`, like other ROS tools, will only find ROS packages that are within the directories listed in your `ROS_PACKAGE_PATH` environment variable. To see what is in your `ROS_PACKAGE_PATH`, execute the command:\n",
                "\n",
                "```{bash}\n",
                "    echo ${ROS_PACKAGE_PATH}\n",
                "```\n",
                "\n",
                "Your `ROS_PACKAGE_PATH` should contain a list of directories where you have ROS packages separated by colons `:`.\n",
                "\n",
                "Similarly to other environment paths, you can add additional directories to your `ROS_PACKAGE_PATH`, with each path separated by a colon `:`.\n",
                "\n",
                "\n",
                "\n",
                "#### Subdirectories\n",
                "\n",
                "`roscd` can also move to a subdirectory of a package or stack.\n",
                "\n",
                "Try:\n",
                "\n",
                "```{bash}\n",
                "    roscd roscpp/cmake\n",
                "    pwd\n",
                "```\n",
                "\n",
                "You should see:\n",
                "\n",
                "    /opt/ros/noetic/share/roscpp/cmake"
            ]
        },
        {
            "cell_type": "markdown",
            "metadata": {},
            "source": [
                "## Using rosls\n",
                "\n",
                "The command `rosls` allows you to execute the linux command `ls` directly in a package by name rather than by absolute path.\n",
                "\n",
                "#### Usage:\n",
                "\n",
                "```{bash}\n",
                "    rosls [package_name]\n",
                "```\n",
                "\n",
                "For example,\n",
                "\n",
                "```{bash}\n",
                "    rosls roscpp_tutorials\n",
                "```\n",
                "\n",
                "would return,\n",
                "\n",
                "    cmake launch package.xml  srv"
            ]
        },
        {
            "cell_type": "markdown",
            "metadata": {},
            "source": [
                "## Review\n",
                "You may have noticed a pattern with the naming of these ROS commands:\n",
                "\n",
                "- `rospack` = **ros** + `pack`(age)\n",
                "- `roscd` = **ros** + `cd`\n",
                "- `rosls` = **ros** + `ls`\n",
                "\n",
                "This naming pattern holds for many of the ROS tools."
            ]
        },
        {
            "cell_type": "markdown",
            "metadata": {},
            "source": [
                "<span style=\"float:right\">\n",
                "<strong>Disclaimer:</strong>\n",
                "This tutorial is an adaptation of the <a href=\"https://wiki.ros.org/ROS/Tutorials/\">Official ROS tutorial</a> originally released under <a href=\"http://creativecommons.org/licenses/by/3.0/\">Creative Commons Attribution 3.0</a> license.\n",
                "<span>"
            ]
        }
    ],
    "metadata": {
        "kernelspec": {
            "display_name": "Python 3.8.10 64-bit",
            "language": "python",
            "name": "python3"
        },
        "language_info": {
            "codemirror_mode": {
                "name": "ipython",
                "version": 2
            },
            "file_extension": ".py",
            "mimetype": "text/x-python",
            "name": "python",
            "nbconvert_exporter": "python",
            "pygments_lexer": "ipython2",
            "version": "3.8.10"
        },
        "vscode": {
            "interpreter": {
                "hash": "916dbcbb3f70747c44a77c7bcd40155683ae19c65e1c03b4aa3499c5328201f1"
            }
        }
    },
    "nbformat": 4,
    "nbformat_minor": 0
}
